{
 "metadata": {
  "language_info": {
   "codemirror_mode": {
    "name": "ipython",
    "version": 3
   },
   "file_extension": ".py",
   "mimetype": "text/x-python",
   "name": "python",
   "nbconvert_exporter": "python",
   "pygments_lexer": "ipython3",
   "version": "3.8.3-final"
  },
  "orig_nbformat": 2,
  "kernelspec": {
   "name": "python3",
   "display_name": "Python 3",
   "language": "python"
  }
 },
 "nbformat": 4,
 "nbformat_minor": 2,
 "cells": [
  {
   "cell_type": "code",
   "execution_count": 5,
   "metadata": {},
   "outputs": [],
   "source": [
    "import pandas as pd\n",
    "import numpy as np\n",
    "import glob"
   ]
  },
  {
   "cell_type": "code",
   "execution_count": 19,
   "metadata": {},
   "outputs": [],
   "source": [
    "#path = r'/Users/niels/Google Drive/DDB 2020-2021/Period 2/5. AI for Business/practise_repo_ai_module/data/raw/smartmeter' # use your path\n",
    "#all_files = glob.glob(path + \"/*.csv\")\n",
    "\n",
    "#li = []\n",
    "\n",
    "#for filename in all_files:\n",
    "#    df = pd.read_csv(filename, index_col=None, header=0)\n",
    "#    li.append(df)\n",
    "\n",
    "#frame = pd.concat(li, axis=0, ignore_index=True)"
   ]
  },
  {
   "cell_type": "code",
   "execution_count": 25,
   "metadata": {},
   "outputs": [],
   "source": [
    "data = pd.read_csv('/Users/niels/Google Drive/DDB 2020-2021/Period 2/5. AI for Business/practise_repo_ai_module/data/raw/smartmeter/block_0.csv')"
   ]
  },
  {
   "cell_type": "code",
   "execution_count": 26,
   "metadata": {},
   "outputs": [
    {
     "output_type": "execute_result",
     "data": {
      "text/plain": [
       "           LCLid         day  energy_median  energy_mean  energy_max  \\\n",
       "0      MAC000002  2012-10-12         0.1385     0.154304       0.886   \n",
       "1      MAC000002  2012-10-13         0.1800     0.230979       0.933   \n",
       "2      MAC000002  2012-10-14         0.1580     0.275479       1.085   \n",
       "3      MAC000002  2012-10-15         0.1310     0.213688       1.164   \n",
       "4      MAC000002  2012-10-16         0.1450     0.203521       0.991   \n",
       "...          ...         ...            ...          ...         ...   \n",
       "25569  MAC005492  2014-02-24         0.1690     0.175042       0.378   \n",
       "25570  MAC005492  2014-02-25         0.1550     0.160792       0.545   \n",
       "25571  MAC005492  2014-02-26         0.1490     0.178542       0.687   \n",
       "25572  MAC005492  2014-02-27         0.1140     0.146167       0.478   \n",
       "25573  MAC005492  2014-02-28         0.0880     0.088000       0.088   \n",
       "\n",
       "       energy_count  energy_std  energy_sum  energy_min  \n",
       "0                46    0.196034       7.098       0.000  \n",
       "1                48    0.192329      11.087       0.076  \n",
       "2                48    0.274647      13.223       0.070  \n",
       "3                48    0.224483      10.257       0.070  \n",
       "4                48    0.184115       9.769       0.087  \n",
       "...             ...         ...         ...         ...  \n",
       "25569            48    0.073174       8.402       0.079  \n",
       "25570            48    0.082118       7.718       0.079  \n",
       "25571            48    0.120820       8.570       0.079  \n",
       "25572            48    0.082616       7.016       0.079  \n",
       "25573             1         NaN       0.088       0.088  \n",
       "\n",
       "[25574 rows x 9 columns]"
      ],
      "text/html": "<div>\n<style scoped>\n    .dataframe tbody tr th:only-of-type {\n        vertical-align: middle;\n    }\n\n    .dataframe tbody tr th {\n        vertical-align: top;\n    }\n\n    .dataframe thead th {\n        text-align: right;\n    }\n</style>\n<table border=\"1\" class=\"dataframe\">\n  <thead>\n    <tr style=\"text-align: right;\">\n      <th></th>\n      <th>LCLid</th>\n      <th>day</th>\n      <th>energy_median</th>\n      <th>energy_mean</th>\n      <th>energy_max</th>\n      <th>energy_count</th>\n      <th>energy_std</th>\n      <th>energy_sum</th>\n      <th>energy_min</th>\n    </tr>\n  </thead>\n  <tbody>\n    <tr>\n      <th>0</th>\n      <td>MAC000002</td>\n      <td>2012-10-12</td>\n      <td>0.1385</td>\n      <td>0.154304</td>\n      <td>0.886</td>\n      <td>46</td>\n      <td>0.196034</td>\n      <td>7.098</td>\n      <td>0.000</td>\n    </tr>\n    <tr>\n      <th>1</th>\n      <td>MAC000002</td>\n      <td>2012-10-13</td>\n      <td>0.1800</td>\n      <td>0.230979</td>\n      <td>0.933</td>\n      <td>48</td>\n      <td>0.192329</td>\n      <td>11.087</td>\n      <td>0.076</td>\n    </tr>\n    <tr>\n      <th>2</th>\n      <td>MAC000002</td>\n      <td>2012-10-14</td>\n      <td>0.1580</td>\n      <td>0.275479</td>\n      <td>1.085</td>\n      <td>48</td>\n      <td>0.274647</td>\n      <td>13.223</td>\n      <td>0.070</td>\n    </tr>\n    <tr>\n      <th>3</th>\n      <td>MAC000002</td>\n      <td>2012-10-15</td>\n      <td>0.1310</td>\n      <td>0.213688</td>\n      <td>1.164</td>\n      <td>48</td>\n      <td>0.224483</td>\n      <td>10.257</td>\n      <td>0.070</td>\n    </tr>\n    <tr>\n      <th>4</th>\n      <td>MAC000002</td>\n      <td>2012-10-16</td>\n      <td>0.1450</td>\n      <td>0.203521</td>\n      <td>0.991</td>\n      <td>48</td>\n      <td>0.184115</td>\n      <td>9.769</td>\n      <td>0.087</td>\n    </tr>\n    <tr>\n      <th>...</th>\n      <td>...</td>\n      <td>...</td>\n      <td>...</td>\n      <td>...</td>\n      <td>...</td>\n      <td>...</td>\n      <td>...</td>\n      <td>...</td>\n      <td>...</td>\n    </tr>\n    <tr>\n      <th>25569</th>\n      <td>MAC005492</td>\n      <td>2014-02-24</td>\n      <td>0.1690</td>\n      <td>0.175042</td>\n      <td>0.378</td>\n      <td>48</td>\n      <td>0.073174</td>\n      <td>8.402</td>\n      <td>0.079</td>\n    </tr>\n    <tr>\n      <th>25570</th>\n      <td>MAC005492</td>\n      <td>2014-02-25</td>\n      <td>0.1550</td>\n      <td>0.160792</td>\n      <td>0.545</td>\n      <td>48</td>\n      <td>0.082118</td>\n      <td>7.718</td>\n      <td>0.079</td>\n    </tr>\n    <tr>\n      <th>25571</th>\n      <td>MAC005492</td>\n      <td>2014-02-26</td>\n      <td>0.1490</td>\n      <td>0.178542</td>\n      <td>0.687</td>\n      <td>48</td>\n      <td>0.120820</td>\n      <td>8.570</td>\n      <td>0.079</td>\n    </tr>\n    <tr>\n      <th>25572</th>\n      <td>MAC005492</td>\n      <td>2014-02-27</td>\n      <td>0.1140</td>\n      <td>0.146167</td>\n      <td>0.478</td>\n      <td>48</td>\n      <td>0.082616</td>\n      <td>7.016</td>\n      <td>0.079</td>\n    </tr>\n    <tr>\n      <th>25573</th>\n      <td>MAC005492</td>\n      <td>2014-02-28</td>\n      <td>0.0880</td>\n      <td>0.088000</td>\n      <td>0.088</td>\n      <td>1</td>\n      <td>NaN</td>\n      <td>0.088</td>\n      <td>0.088</td>\n    </tr>\n  </tbody>\n</table>\n<p>25574 rows × 9 columns</p>\n</div>"
     },
     "metadata": {},
     "execution_count": 26
    }
   ],
   "source": [
    "data"
   ]
  },
  {
   "cell_type": "code",
   "execution_count": null,
   "metadata": {},
   "outputs": [],
   "source": []
  }
 ]
}